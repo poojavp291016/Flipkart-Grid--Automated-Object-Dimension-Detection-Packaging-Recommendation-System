{
 "cells": [
  {
   "cell_type": "code",
   "execution_count": 1,
   "id": "7184c94a",
   "metadata": {},
   "outputs": [],
   "source": [
    "import cv2\n",
    "import numpy as np\n",
    "\n",
    "# Load YOLO Model\n",
    "config_path = \"C:/Users/pooja/Downloads/yolov3.cfg\"  # Path to YOLO config file\n",
    "weights_path = \"C:/Users/pooja/Downloads/yolov3.weights\"  # Path to YOLO weights file\n",
    "net = cv2.dnn.readNet(weights_path, config_path)"
   ]
  },
  {
   "cell_type": "code",
   "execution_count": 2,
   "id": "c36b80c9",
   "metadata": {},
   "outputs": [],
   "source": [
    "# Load and optionally resize the image\n",
    "image_path = \"C:\\\\Users\\\\pooja\\\\Downloads\\\\key.jpg\"  # Path to the image\n",
    "img = cv2.imread(image_path)\n",
    "\n",
    "# Optionally resize the image to enhance detection\n",
    "scale_factor = 1.5  # Adjust this value if necessary\n",
    "img = cv2.resize(img, (int(img.shape[1] * scale_factor), int(img.shape[0] * scale_factor)))\n",
    "\n",
    "height, width, _ = img.shape"
   ]
  },
  {
   "cell_type": "code",
   "execution_count": 3,
   "id": "87cb1d15",
   "metadata": {},
   "outputs": [],
   "source": [
    "# Prepare the image for YOLO by converting it into a blob\n",
    "blob = cv2.dnn.blobFromImage(img, 0.00392, (416, 416), (0, 0, 0), True, crop=False)\n",
    "net.setInput(blob)"
   ]
  },
  {
   "cell_type": "code",
   "execution_count": 4,
   "id": "62f0eafd",
   "metadata": {},
   "outputs": [],
   "source": [
    "# Get output layer names\n",
    "layer_names = net.getLayerNames()\n",
    "# Adjust to handle the unconnected layers properly\n",
    "output_layers = [layer_names[i - 1] for i in net.getUnconnectedOutLayers().flatten()]"
   ]
  },
  {
   "cell_type": "code",
   "execution_count": 5,
   "id": "1d0b95f3",
   "metadata": {},
   "outputs": [],
   "source": [
    "# Perform a forward pass to get predictions\n",
    "outputs = net.forward(output_layers)\n"
   ]
  },
  {
   "cell_type": "code",
   "execution_count": 6,
   "id": "8b597f37",
   "metadata": {},
   "outputs": [],
   "source": [
    "# Initialize lists for bounding boxes, confidences, and class IDs\n",
    "boxes = []\n",
    "confidences = []\n",
    "class_ids = []"
   ]
  },
  {
   "cell_type": "code",
   "execution_count": 7,
   "id": "ced35465",
   "metadata": {},
   "outputs": [],
   "source": [
    "# Process the outputs and apply Non-Max Suppression (NMS)\n",
    "for output in outputs:\n",
    "    for detection in output:\n",
    "        scores = detection[5:]  # Skip the first 5 values (bounding box coordinates)\n",
    "        class_id = np.argmax(scores)  # Get the index of the highest score\n",
    "        confidence = scores[class_id]\n",
    "        \n",
    "        if confidence > 0.1:  # Lowered confidence threshold to detect smaller objects\n",
    "            center_x = int(detection[0] * width)\n",
    "            center_y = int(detection[1] * height)\n",
    "            w = int(detection[2] * width)\n",
    "            h = int(detection[3] * height)\n",
    "            x = int(center_x - w / 2)\n",
    "            y = int(center_y - h / 2)\n",
    "            boxes.append([x, y, w, h])\n",
    "            confidences.append(float(confidence))\n",
    "            class_ids.append(class_id)\n",
    "\n",
    "# Apply Non-Max Suppression (NMS) to remove overlapping boxes\n",
    "indices = cv2.dnn.NMSBoxes(boxes, confidences, score_threshold=0.1, nms_threshold=0.4)"
   ]
  },
  {
   "cell_type": "code",
   "execution_count": 8,
   "id": "462860d1",
   "metadata": {},
   "outputs": [
    {
     "name": "stdout",
     "output_type": "stream",
     "text": [
      "Detected Object 76 with Confidence 0.58\n"
     ]
    }
   ],
   "source": [
    "# Print detected objects and their confidence levels\n",
    "if len(indices) > 0:\n",
    "    for i in indices.flatten():\n",
    "        print(f\"Detected Object {class_ids[i]} with Confidence {confidences[i]:.2f}\")\n",
    "        x, y, w, h = boxes[i]\n",
    "        cv2.rectangle(img, (x, y), (x + w, y + h), (0, 255, 0), 2)\n",
    "        cv2.putText(img, \"Object detected\", (x, y - 10), cv2.FONT_HERSHEY_SIMPLEX, 0.5, (0, 255, 0), 2)\n",
    "else:\n",
    "    print(\"No objects detected.\")"
   ]
  },
  {
   "cell_type": "code",
   "execution_count": null,
   "id": "6c9e16a5",
   "metadata": {},
   "outputs": [],
   "source": [
    "# Display the resulting image with bounding boxes\n",
    "cv2.imshow(\"Detected Objects\", img)\n",
    "cv2.waitKey(0)  # Wait until any key is pressed\n",
    "cv2.destroyAllWindows()  # Close the image window"
   ]
  },
  {
   "cell_type": "code",
   "execution_count": 17,
   "id": "800664c2",
   "metadata": {},
   "outputs": [
    {
     "name": "stdout",
     "output_type": "stream",
     "text": [
      "Estimated Object Dimensions: Width = 10.00 cm, Height = 12.94 cm, Length = 15.00 cm\n"
     ]
    }
   ],
   "source": [
    "# Estimate the dimensions of the detected object (using a reference object)\n",
    "if len(indices) > 0:  # Ensure that NMS found at least one object\n",
    "    for i in indices.flatten():  # Flatten the indices to avoid scalar index issues\n",
    "        # Access the first detected object's bounding box\n",
    "        x, y, w, h = boxes[i]  # w = width in pixels, h = height in pixels\n",
    "\n",
    "        ref_width = 10  # cm (the known width of a reference object in your image)\n",
    "        pixel_per_metric = w / ref_width  # Calculate pixels per centimeter\n",
    "        real_width = w / pixel_per_metric\n",
    "        real_height = h / pixel_per_metric\n",
    "\n",
    "        # Assuming a length-to-width ratio or using another reference\n",
    "        length_to_width_ratio = 1.5  # Example: If length is 1.5 times the width\n",
    "        real_length = real_width * length_to_width_ratio\n",
    "\n",
    "        print(f\"Estimated Object Dimensions: Width = {real_width:.2f} cm, Height = {real_height:.2f} cm, Length = {real_length:.2f} cm\")\n",
    "else:\n",
    "    print(\"No objects detected to estimate dimensions.\")"
   ]
  },
  {
   "cell_type": "code",
   "execution_count": null,
   "id": "1170f913",
   "metadata": {},
   "outputs": [],
   "source": []
  }
 ],
 "metadata": {
  "kernelspec": {
   "display_name": "Python 3 (ipykernel)",
   "language": "python",
   "name": "python3"
  },
  "language_info": {
   "codemirror_mode": {
    "name": "ipython",
    "version": 3
   },
   "file_extension": ".py",
   "mimetype": "text/x-python",
   "name": "python",
   "nbconvert_exporter": "python",
   "pygments_lexer": "ipython3",
   "version": "3.11.4"
  }
 },
 "nbformat": 4,
 "nbformat_minor": 5
}
